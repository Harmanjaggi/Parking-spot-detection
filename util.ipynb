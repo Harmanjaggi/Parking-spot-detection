{
  "nbformat": 4,
  "nbformat_minor": 0,
  "metadata": {
    "colab": {
      "provenance": []
    },
    "kernelspec": {
      "name": "python3",
      "display_name": "Python 3"
    },
    "language_info": {
      "name": "python"
    }
  },
  "cells": [
    {
      "cell_type": "code",
      "execution_count": null,
      "metadata": {
        "id": "nQ7yoZtMd1EI"
      },
      "outputs": [],
      "source": []
    },
    {
      "cell_type": "markdown",
      "source": [
        "### **Import necessary libraries**"
      ],
      "metadata": {
        "id": "JGV4rRKyeA8j"
      }
    },
    {
      "cell_type": "code",
      "source": [
        "import pickle\n",
        "\n",
        "from skimage.transform import resize\n",
        "import numpy as np\n",
        "import cv2"
      ],
      "metadata": {
        "id": "hrNN57RBeCQ-"
      },
      "execution_count": null,
      "outputs": []
    },
    {
      "cell_type": "markdown",
      "source": [
        "### **Initialze Variables and Load Model**"
      ],
      "metadata": {
        "id": "6P9siY4Jd_Ug"
      }
    },
    {
      "cell_type": "code",
      "source": [
        "EMPTY = True\n",
        "NOT_EMPTY = False\n",
        "\n",
        "MODEL = pickle.load(open(\"model.p\", \"rb\"))"
      ],
      "metadata": {
        "id": "gxFHoVeve-vF"
      },
      "execution_count": null,
      "outputs": []
    },
    {
      "cell_type": "markdown",
      "source": [
        "### **Predict Spot Background**"
      ],
      "metadata": {
        "id": "kzOjs9iegF2A"
      }
    },
    {
      "cell_type": "code",
      "source": [
        "def empty_or_not(spot_bgr):\n",
        "\n",
        "    flat_data = []\n",
        "\n",
        "    img_resized = resize(spot_bgr, (15, 15, 3))\n",
        "    flat_data.append(img_resized.flatten())\n",
        "    flat_data = np.array(flat_data)\n",
        "\n",
        "    y_output = MODEL.predict(flat_data)\n",
        "\n",
        "    if y_output == 0:\n",
        "        return EMPTY\n",
        "    else:\n",
        "        return NOT_EMPTY\n"
      ],
      "metadata": {
        "id": "eN8Qrqx4gbuz"
      },
      "execution_count": null,
      "outputs": []
    },
    {
      "cell_type": "markdown",
      "source": [
        "### **Extract the Coordinate Points of Parking Spots**"
      ],
      "metadata": {
        "id": "gy8U4lCtfr7-"
      }
    },
    {
      "cell_type": "code",
      "source": [
        "def get_parking_spots_bboxes(connected_components):\n",
        "    (totalLabels, label_ids, values, centroid) = connected_components\n",
        "\n",
        "    slots = []\n",
        "    coef = 1\n",
        "    for i in range(1, totalLabels):\n",
        "\n",
        "        # Now extract the coordinate points\n",
        "        x1 = int(values[i, cv2.CC_STAT_LEFT] * coef)\n",
        "        y1 = int(values[i, cv2.CC_STAT_TOP] * coef)\n",
        "        w = int(values[i, cv2.CC_STAT_WIDTH] * coef)\n",
        "        h = int(values[i, cv2.CC_STAT_HEIGHT] * coef)\n",
        "\n",
        "        slots.append([x1, y1, w, h])\n",
        "\n",
        "    return slots"
      ],
      "metadata": {
        "id": "pL5nncbPf8aK"
      },
      "execution_count": null,
      "outputs": []
    },
    {
      "cell_type": "markdown",
      "source": [],
      "metadata": {
        "id": "t7kNlKLIgARC"
      }
    }
  ]
}