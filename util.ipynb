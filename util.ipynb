{
 "cells": [
  {
   "cell_type": "markdown",
   "metadata": {
    "id": "JGV4rRKyeA8j"
   },
   "source": [
    "### **Import necessary libraries**"
   ]
  },
  {
   "cell_type": "code",
   "execution_count": 1,
   "metadata": {
    "id": "hrNN57RBeCQ-"
   },
   "outputs": [],
   "source": [
    "import pickle\n",
    "\n",
    "from skimage.transform import resize\n",
    "import numpy as np\n",
    "import cv2"
   ]
  },
  {
   "cell_type": "markdown",
   "metadata": {
    "id": "6P9siY4Jd_Ug"
   },
   "source": [
    "### **Initialze Variables and Load Model**"
   ]
  },
  {
   "cell_type": "code",
   "execution_count": 2,
   "metadata": {
    "id": "gxFHoVeve-vF"
   },
   "outputs": [],
   "source": [
    "EMPTY = True\n",
    "NOT_EMPTY = False\n",
    "\n",
    "MODEL = pickle.load(open(\"model.p\", \"rb\"))"
   ]
  },
  {
   "cell_type": "markdown",
   "metadata": {
    "id": "kzOjs9iegF2A"
   },
   "source": [
    "### **Predict Spot Background**"
   ]
  },
  {
   "cell_type": "code",
   "execution_count": 3,
   "metadata": {
    "id": "eN8Qrqx4gbuz"
   },
   "outputs": [],
   "source": [
    "def empty_or_not(spot_bgr):\n",
    "\n",
    "    flat_data = []\n",
    "\n",
    "    img_resized = resize(spot_bgr, (15, 15, 3))\n",
    "    flat_data.append(img_resized.flatten())\n",
    "    flat_data = np.array(flat_data)\n",
    "\n",
    "    y_output = MODEL.predict(flat_data)\n",
    "\n",
    "    if y_output == 0:\n",
    "        return EMPTY\n",
    "    else:\n",
    "        return NOT_EMPTY\n"
   ]
  },
  {
   "cell_type": "markdown",
   "metadata": {
    "id": "gy8U4lCtfr7-"
   },
   "source": [
    "### **Extract the Coordinate Points of Parking Spots**"
   ]
  },
  {
   "cell_type": "code",
   "execution_count": 4,
   "metadata": {
    "id": "pL5nncbPf8aK"
   },
   "outputs": [],
   "source": [
    "def get_parking_spots_bboxes(connected_components):\n",
    "    (totalLabels, label_ids, values, centroid) = connected_components\n",
    "\n",
    "    slots = []\n",
    "    coef = 1\n",
    "    for i in range(1, totalLabels):\n",
    "\n",
    "        # Now extract the coordinate points\n",
    "        x1 = int(values[i, cv2.CC_STAT_LEFT] * coef)\n",
    "        y1 = int(values[i, cv2.CC_STAT_TOP] * coef)\n",
    "        w = int(values[i, cv2.CC_STAT_WIDTH] * coef)\n",
    "        h = int(values[i, cv2.CC_STAT_HEIGHT] * coef)\n",
    "\n",
    "        slots.append([x1, y1, w, h])\n",
    "\n",
    "    return slots"
   ]
  }
 ],
 "metadata": {
  "colab": {
   "provenance": []
  },
  "kernelspec": {
   "display_name": "Python 3 (ipykernel)",
   "language": "python",
   "name": "python3"
  },
  "language_info": {
   "codemirror_mode": {
    "name": "ipython",
    "version": 3
   },
   "file_extension": ".py",
   "mimetype": "text/x-python",
   "name": "python",
   "nbconvert_exporter": "python",
   "pygments_lexer": "ipython3",
   "version": "3.11.4"
  }
 },
 "nbformat": 4,
 "nbformat_minor": 4
}
