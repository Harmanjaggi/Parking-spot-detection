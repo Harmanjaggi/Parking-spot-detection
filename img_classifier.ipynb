{
 "cells": [
  {
   "cell_type": "markdown",
   "id": "d26a643b-d201-4e20-af3a-95064fc29f3f",
   "metadata": {},
   "source": [
    "### Import necessary libraries"
   ]
  },
  {
   "cell_type": "code",
   "execution_count": 5,
   "id": "146382bf-8a2d-4841-b7f8-305897c414f7",
   "metadata": {},
   "outputs": [],
   "source": [
    "import os\n",
    "import pickle\n",
    "\n",
    "from skimage.io import imread\n",
    "from skimage.transform import resize\n",
    "import numpy as np\n",
    "from sklearn.model_selection import train_test_split\n",
    "from sklearn.model_selection import GridSearchCV\n",
    "from sklearn.svm import SVC\n",
    "from sklearn.metrics import accuracy_score"
   ]
  },
  {
   "cell_type": "markdown",
   "id": "4801563c-f2c3-4d8b-9d1f-657de247fa0b",
   "metadata": {},
   "source": [
    "### Prepare Data"
   ]
  },
  {
   "cell_type": "code",
   "execution_count": 7,
   "id": "c8622da4-534b-42eb-a4be-5cc1b8cc96c9",
   "metadata": {},
   "outputs": [],
   "source": [
    "input_dir = 'C:/interest/data_science/Parking-spot-detection/clf-data'\n",
    "categories = ['empty', 'not_empty']"
   ]
  },
  {
   "cell_type": "code",
   "execution_count": 16,
   "id": "fddd7aff-060e-485c-b92d-0085771d4cac",
   "metadata": {},
   "outputs": [],
   "source": [
    "data = []\n",
    "labels = []\n",
    "for category_idx, category in enumerate(categories):\n",
    "    for file in os.listdir(os.path.join(input_dir, category)):\n",
    "        img_path = os.path.join(input_dir, category, file)\n",
    "        img = imread(img_path)\n",
    "        img = resize(img, (15, 15))\n",
    "        data.append(img.flatten())\n",
    "        labels.append(category_idx)\n",
    "\n",
    "data = np.asarray(data)\n",
    "labels = np.asarray(labels)"
   ]
  },
  {
   "cell_type": "markdown",
   "id": "38e1e46a-606c-43bc-9577-6c9202cbf638",
   "metadata": {},
   "source": [
    "### Train / Test Split"
   ]
  },
  {
   "cell_type": "code",
   "execution_count": 17,
   "id": "6522cc0a-92b3-4913-8531-bdcfb6ec4230",
   "metadata": {},
   "outputs": [],
   "source": [
    "x_train, x_test, y_train, y_test = train_test_split(data, labels, test_size=0.2, shuffle=True, stratify=labels)"
   ]
  },
  {
   "cell_type": "markdown",
   "id": "5a49b1e2-71ba-475b-a219-55aa6ceaceda",
   "metadata": {},
   "source": [
    "### Train Classifier"
   ]
  },
  {
   "cell_type": "code",
   "execution_count": 18,
   "id": "daa9addb-0e0a-4644-a02c-5897f3deec92",
   "metadata": {},
   "outputs": [],
   "source": [
    "classifier = SVC()\n",
    "\n",
    "parameters = [{'gamma': [0.01, 0.001, 0.0001], 'C': [1, 10, 100, 1000]}]\n",
    "\n",
    "grid_search = GridSearchCV(classifier, parameters)"
   ]
  },
  {
   "cell_type": "code",
   "execution_count": null,
   "id": "df0e9a4b-d318-4850-a674-f9a36f78a91f",
   "metadata": {},
   "outputs": [],
   "source": [
    "grid_search.fit(x_train, y_train)"
   ]
  },
  {
   "cell_type": "markdown",
   "id": "356d2ceb-9842-4de2-98b7-cde369dadf18",
   "metadata": {},
   "source": [
    "### Test Performance"
   ]
  },
  {
   "cell_type": "code",
   "execution_count": null,
   "id": "c0b99e2d-fff1-459d-b6dd-bc9ad08f2adc",
   "metadata": {},
   "outputs": [],
   "source": [
    "best_estimator = grid_search.best_estimator_\n",
    "\n",
    "y_prediction = best_estimator.predict(x_test)\n",
    "\n",
    "score = accuracy_score(y_prediction, y_test)\n",
    "\n",
    "print('{}% of samples were correctly classified'.format(str(score * 100)))"
   ]
  },
  {
   "cell_type": "code",
   "execution_count": null,
   "id": "a3b1c09d-4523-4172-8a1c-ac75fea057f1",
   "metadata": {},
   "outputs": [],
   "source": [
    "pickle.dump(best_estimator, open('./model.p', 'wb'))"
   ]
  }
 ],
 "metadata": {
  "kernelspec": {
   "display_name": "Python 3 (ipykernel)",
   "language": "python",
   "name": "python3"
  },
  "language_info": {
   "codemirror_mode": {
    "name": "ipython",
    "version": 3
   },
   "file_extension": ".py",
   "mimetype": "text/x-python",
   "name": "python",
   "nbconvert_exporter": "python",
   "pygments_lexer": "ipython3",
   "version": "3.10.7"
  }
 },
 "nbformat": 4,
 "nbformat_minor": 5
}
